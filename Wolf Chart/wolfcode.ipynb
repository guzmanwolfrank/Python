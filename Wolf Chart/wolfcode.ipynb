{
 "cells": [
  {
   "cell_type": "code",
   "execution_count": null,
   "metadata": {},
   "outputs": [],
   "source": [
    "import yfinance as yf\n",
    "import matplotlib.pyplot as plt\n",
    "from matplotlib.backends.backend_tkagg import FigureCanvasTkAgg\n",
    "import tkinter as tk\n",
    "\n",
    "def get_stock_data(symbol):\n",
    "    stock = yf.Ticker(symbol)\n",
    "    return stock.history(period='10d', interval='15m')\n",
    "\n",
    "def plot_stock_chart(symbol):\n",
    "    data = get_stock_data(symbol)\n",
    "    fig, ax = plt.subplots(figsize=(10, 5))\n",
    "    ax.plot(data.index, data['Close'])\n",
    "    ax.set_xlabel('Date', color='white')\n",
    "    ax.set_ylabel('Price', color='white')\n",
    "    ax.set_title(f'{symbol} Stock Price Chart', color='white')\n",
    "    ax.tick_params(colors='white')\n",
    "    fig.patch.set_facecolor('black')\n",
    "    ax.set_facecolor('black')\n",
    "    return fig\n",
    "\n",
    "def show_stock_chart():\n",
    "    symbol = symbol_entry.get().upper()\n",
    "    fig = plot_stock_chart(symbol)\n",
    "    canvas = FigureCanvasTkAgg(fig, master=root)\n",
    "    canvas.draw()\n",
    "    canvas.get_tk_widget().grid(row=1, column=0)\n",
    "    \n",
    "root = tk.Tk()\n",
    "root.title('Stock Price Chart')\n",
    "root.configure(bg='black')\n",
    "\n",
    "symbol_label = tk.Label(root, text='Enter Stock Symbol:', bg='black', fg='white')\n",
    "symbol_label.grid(row=0, column=0)\n",
    "\n",
    "symbol_entry = tk.Entry(root)\n",
    "symbol_entry.grid(row=0, column=1)\n",
    "\n",
    "button = tk.Button(root, text='Show Chart', command=show_stock_chart, bg='white', fg='black')\n",
    "button.grid(row=0, column=2)\n",
    "\n",
    "root.mainloop()"
   ]
  }
 ],
 "metadata": {
  "kernelspec": {
   "display_name": "Python 3",
   "language": "python",
   "name": "python3"
  },
  "language_info": {
   "codemirror_mode": {
    "name": "ipython",
    "version": 3
   },
   "file_extension": ".py",
   "mimetype": "text/x-python",
   "name": "python",
   "nbconvert_exporter": "python",
   "pygments_lexer": "ipython3",
   "version": "3.11.3"
  },
  "orig_nbformat": 4
 },
 "nbformat": 4,
 "nbformat_minor": 2
}
