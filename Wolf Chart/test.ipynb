{
 "cells": [
  {
   "cell_type": "code",
   "execution_count": 35,
   "metadata": {},
   "outputs": [],
   "source": [
    "#Imports\n",
    "\n",
    "import yfinance as yf\n",
    "import tkinter as tk\n",
    "import plotly.graph_objects as go\n",
    "import plotly.express as px \n",
    "import pandas as pd"
   ]
  },
  {
   "cell_type": "code",
   "execution_count": 38,
   "metadata": {},
   "outputs": [
    {
     "name": "stdout",
     "output_type": "stream",
     "text": [
      "[*********************100%***********************]  1 of 1 completed\n",
      "                  Open        High         Low       Close   Adj Close   \n",
      "Date                                                                     \n",
      "1999-03-10   51.125000   51.156250   50.281250   51.062500   43.778355  \\\n",
      "1999-03-11   51.437500   51.734375   50.312500   51.312500   43.992657   \n",
      "1999-03-12   51.125000   51.156250   49.656250   50.062500   42.920990   \n",
      "1999-03-15   50.437500   51.562500   49.906250   51.500000   44.153423   \n",
      "1999-03-16   51.718750   52.156250   51.156250   51.937500   44.528515   \n",
      "...                ...         ...         ...         ...         ...   \n",
      "2023-07-24  376.619995  377.579987  374.339996  376.230011  376.230011   \n",
      "2023-07-25  376.950012  380.470001  376.929993  378.779999  378.779999   \n",
      "2023-07-26  377.720001  379.239990  375.179993  377.519989  377.519989   \n",
      "2023-07-27  383.070007  384.709991  375.309998  376.619995  376.619995   \n",
      "2023-07-28  380.739990  384.519989  380.220001  383.480011  383.480011   \n",
      "\n",
      "              Volume  \n",
      "Date                  \n",
      "1999-03-10   5232000  \n",
      "1999-03-11   9688600  \n",
      "1999-03-12   8743600  \n",
      "1999-03-15   6369000  \n",
      "1999-03-16   4905800  \n",
      "...              ...  \n",
      "2023-07-24  40380100  \n",
      "2023-07-25  38894400  \n",
      "2023-07-26  47075700  \n",
      "2023-07-27  63940200  \n",
      "2023-07-28  56853400  \n",
      "\n",
      "[6137 rows x 6 columns]\n"
     ]
    }
   ],
   "source": [
    "# Fetch Ticker user input\n",
    "stock_symbol = input() \n",
    "stock = yf.download(stock_symbol)\n",
    "\n",
    "data = pd.DataFrame(stock)\n",
    "print(data)"
   ]
  },
  {
   "cell_type": "code",
   "execution_count": null,
   "metadata": {},
   "outputs": [],
   "source": [
    "# user input\n",
    "data = input()\n"
   ]
  },
  {
   "cell_type": "code",
   "execution_count": null,
   "metadata": {},
   "outputs": [],
   "source": [
    "# Definitions using Matplotlib \n",
    "def plot_stock_chart(symbol):\n",
    "    \n",
    "    fig = go.Figure(data=[go.Candlestick(x=data.index, open=data['Open'], high=data['High'], low=data['Low'], close=data['Close'])])\n",
    "    fig.update_layout(title=f\"{ticker} Candlestick Chart\")\n",
    "    return fig\n",
    "\n",
    "def show_stock_chart():\n",
    "    symbol = symbol_entry.get().upper()\n",
    "    fig = plot_stock_chart(symbol)\n",
    "    canvas = FigureCanvasTkAgg(fig, master=root)\n",
    "    canvas.draw()\n",
    "    canvas.get_tk_widget().grid(row=1, column=0)"
   ]
  },
  {
   "cell_type": "code",
   "execution_count": null,
   "metadata": {},
   "outputs": [],
   "source": [
    "# Tkinter \n",
    "root = tk.Tk()\n",
    "root.title('Stock Price Chart')\n",
    "root.configure(bg='black')\n",
    "\n",
    "symbol_label = tk.Label(root, text='Enter Stock Symbol:', bg='black', fg='white')\n",
    "symbol_label.grid(row=0, column=0)\n",
    "\n",
    "symbol_entry = tk.Entry(root)\n",
    "symbol_entry.grid(row=0, column=1)\n",
    "\n",
    "button = tk.Button(root, text='Show Chart', command=show_stock_chart, bg='white', fg='black')\n",
    "button.grid(row=0, column=2)\n",
    "\n",
    "root.mainloop()"
   ]
  }
 ],
 "metadata": {
  "kernelspec": {
   "display_name": "Python 3",
   "language": "python",
   "name": "python3"
  },
  "language_info": {
   "codemirror_mode": {
    "name": "ipython",
    "version": 3
   },
   "file_extension": ".py",
   "mimetype": "text/x-python",
   "name": "python",
   "nbconvert_exporter": "python",
   "pygments_lexer": "ipython3",
   "version": "3.11.3"
  },
  "orig_nbformat": 4
 },
 "nbformat": 4,
 "nbformat_minor": 2
}
