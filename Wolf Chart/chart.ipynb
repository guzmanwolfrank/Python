{
 "cells": [
  {
   "cell_type": "code",
   "execution_count": null,
   "metadata": {},
   "outputs": [],
   "source": [
    "import yfinance as yf\n",
    "import plotly.graph_objects as go\n",
    "\n",
    "def plot_candlestick(ticker_symbol, start_date, end_date):\n",
    "    # Fetch historical stock data\n",
    "    stock_data = yf.download(ticker_symbol, start=start_date, end=end_date)\n",
    "\n",
    "    # Create the candlestick chart\n",
    "    candlestick = go.Candlestick(x=stock_data.index,\n",
    "                                 open=stock_data['Open'],\n",
    "                                 high=stock_data['High'],\n",
    "                                 low=stock_data['Low'],\n",
    "                                 close=stock_data['Close'])\n",
    "\n",
    "    # Create the figure and layout\n",
    "    fig = go.Figure(data=[candlestick])\n",
    "    fig.update_layout(title=f\"{ticker_symbol} Candlestick Chart\",\n",
    "                      xaxis_title='Date',\n",
    "                      yaxis_title='Price',\n",
    "                      xaxis_rangeslider_visible=False)\n",
    "\n",
    "    # Show the chart\n",
    "    fig.show()\n",
    "\n",
    "if __name__ == \"__main__\":\n",
    "    # Input your desired parameters\n",
    "    ticker_symbol = \"AAPL\"  # Change this to the desired stock ticker\n",
    "    start_date = \"2022-01-01\"  # Change this to the desired start date\n",
    "    end_date = \"2023-01-01\"    # Change this to the desired end date\n",
    "\n",
    "    plot_candlestick(ticker_symbol, start_date, end_date)\n"
   ]
  },
  {
   "cell_type": "code",
   "execution_count": null,
   "metadata": {},
   "outputs": [],
   "source": [
    "import yfinance as yf\n",
    "import plotly.graph_objects as go\n",
    "import tkinter as tk\n",
    "\n",
    "# Get the stock data for Apple\n",
    "data = yf.download(\"AAPL\", start=\"2023-01-01\", end=\"2023-07-26\")\n",
    "\n",
    "# Create a Plotly figure\n",
    "fig = go.Figure(data=[go.Candlestick(\n",
    "    x=data.index,\n",
    "    open=data[\"Open\"],\n",
    "    high=data[\"High\"],\n",
    "    low=data[\"Low\"],\n",
    "    close=data[\"Close\"],\n",
    ")])\n",
    "\n",
    "# Set the title and axis labels\n",
    "fig.update_layout(\n",
    "    title=\"Apple Stock Price\",\n",
    "    xaxis_title=\"Date\",\n",
    "    yaxis_title=\"Price (USD)\",\n",
    ")\n",
    "\n",
    "# Convert the Plotly figure to an image\n",
    "image = fig.to_image(format=\"png\", width=800, height=600)\n",
    "\n",
    "# Create a canvas to display the image\n",
    "canvas = tk.Canvas(root, width=800, height=600)\n",
    "\n",
    "# Create an image object on the canvas\n",
    "image = canvas.create_image(0, 0, image=image)\n",
    "\n",
    "# Start the Tkinter main loop\n",
    "root.mainloop()\n",
    "\n",
    "\n"
   ]
  }
 ],
 "metadata": {
  "kernelspec": {
   "display_name": "Python 3",
   "language": "python",
   "name": "python3"
  },
  "language_info": {
   "codemirror_mode": {
    "name": "ipython",
    "version": 3
   },
   "file_extension": ".py",
   "mimetype": "text/x-python",
   "name": "python",
   "nbconvert_exporter": "python",
   "pygments_lexer": "ipython3",
   "version": "3.11.3"
  },
  "orig_nbformat": 4
 },
 "nbformat": 4,
 "nbformat_minor": 2
}
