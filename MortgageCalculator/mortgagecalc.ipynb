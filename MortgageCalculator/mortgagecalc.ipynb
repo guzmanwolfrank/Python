{
 "cells": [
  {
   "cell_type": "code",
   "execution_count": 18,
   "metadata": {},
   "outputs": [],
   "source": [
    "import tkinter as tk\n",
    "\n",
    "def calculate_mortgage():\n",
    "    principal = float(principal_entry.get())\n",
    "    interest_rate = float(interest_rate_entry.get()) / 100.0\n",
    "    years = int(years_entry.get())\n",
    "    \n",
    "    monthly_interest_rate = interest_rate / 12\n",
    "    months = years * 12\n",
    "    \n",
    "    mortgage_payment = principal * (monthly_interest_rate * (1 + monthly_interest_rate) ** months) / (((1 + monthly_interest_rate) ** months) - 1)\n",
    "    result_label.config(text=f\"Monthly Mortgage Payment: ${mortgage_payment:.2f}\")\n",
    "\n",
    "# Create the main window\n",
    "root = tk.Tk()\n",
    "root.title(\"Wolfrank's Mortgage Calculator\")\n",
    "root.geometry(\"400x200\")\n",
    "root.configure(bg=\"black\")\n",
    "\n",
    "# Create labels\n",
    "principal_label = tk.Label(root, text=\"Principal Amount ($):\", bg=\"black\", fg=\"white\")\n",
    "interest_rate_label = tk.Label(root, text=\"Annual Interest Rate (%):\", bg=\"black\", fg=\"white\")\n",
    "years_label = tk.Label(root, text=\"Number of Years:\", bg=\"black\", fg=\"white\")\n",
    "result_label = tk.Label(root, text=\"\", bg=\"black\", fg=\"white\")\n",
    "\n",
    "# Create entry widgets\n",
    "principal_entry = tk.Entry(root)\n",
    "interest_rate_entry = tk.Entry(root)\n",
    "years_entry = tk.Entry(root)\n",
    "\n",
    "# Create calculate button\n",
    "calculate_button = tk.Button(root, text=\"Calculate\", command=calculate_mortgage, bg=\"white\", fg=\"black\")\n",
    "\n",
    "# Grid layout\n",
    "principal_label.grid(row=0, column=0, padx=10, pady=10)\n",
    "principal_entry.grid(row=0, column=1, padx=10, pady=10)\n",
    "interest_rate_label.grid(row=1, column=0, padx=10, pady=10)\n",
    "interest_rate_entry.grid(row=1, column=1, padx=10, pady=10)\n",
    "years_label.grid(row=2, column=0, padx=10, pady=10)\n",
    "years_entry.grid(row=2, column=1, padx=10, pady=10)\n",
    "calculate_button.grid(row=3, columnspan=2, padx=10, pady=10)\n",
    "result_label.grid(row=4, columnspan=2, padx=10, pady=10)\n",
    "\n",
    "root.mainloop()\n"
   ]
  }
 ],
 "metadata": {
  "kernelspec": {
   "display_name": "Python 3",
   "language": "python",
   "name": "python3"
  },
  "language_info": {
   "codemirror_mode": {
    "name": "ipython",
    "version": 3
   },
   "file_extension": ".py",
   "mimetype": "text/x-python",
   "name": "python",
   "nbconvert_exporter": "python",
   "pygments_lexer": "ipython3",
   "version": "3.11.3"
  },
  "orig_nbformat": 4
 },
 "nbformat": 4,
 "nbformat_minor": 2
}
